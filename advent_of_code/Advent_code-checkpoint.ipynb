{
 "cells": [
  {
   "cell_type": "markdown",
   "id": "7573fdd1",
   "metadata": {},
   "source": [
    "# Advent code"
   ]
  },
  {
   "cell_type": "markdown",
   "id": "d1e8a8ac",
   "metadata": {},
   "source": [
    "### Day 1"
   ]
  },
  {
   "cell_type": "markdown",
   "id": "5c0eceda",
   "metadata": {},
   "source": [
    "--- Day 1: Historian Hysteria ---\n",
    "The Chief Historian is always present for the big Christmas sleigh launch, but nobody has seen him in months! Last anyone heard, he was visiting locations that are historically significant to the North Pole; a group of Senior Historians has asked you to accompany them as they check the places they think he was most likely to visit.\n",
    "\n",
    "As each location is checked, they will mark it on their list with a star. They figure the Chief Historian must be in one of the first fifty places they'll look, so in order to save Christmas, you need to help them get fifty stars on their list before Santa takes off on December 25th.\n",
    "\n",
    "Collect stars by solving puzzles. Two puzzles will be made available on each day in the Advent calendar; the second puzzle is unlocked when you complete the first. Each puzzle grants one star. Good luck!\n",
    "\n",
    "You haven't even left yet and the group of Elvish Senior Historians has already hit a problem: their list of locations to check is currently empty. Eventually, someone decides that the best place to check first would be the Chief Historian's office.\n",
    "\n",
    "Upon pouring into the office, everyone confirms that the Chief Historian is indeed nowhere to be found. Instead, the Elves discover an assortment of notes and lists of historically significant locations! This seems to be the planning the Chief Historian was doing before he left. Perhaps these notes can be used to determine which locations to search?\n",
    "\n",
    "Throughout the Chief's office, the historically significant locations are listed not by name but by a unique number called the location ID. To make sure they don't miss anything, The Historians split into two groups, each searching the office and trying to create their own complete list of location IDs.\n",
    "\n",
    "There's just one problem: by holding the two lists up side by side (your puzzle input), it quickly becomes clear that the lists aren't very similar. Maybe you can help The Historians reconcile their lists?\n",
    "\n",
    "For example:\n",
    "\n",
    "3   4\n",
    "4   3\n",
    "2   5\n",
    "1   3\n",
    "3   9\n",
    "3   3\n",
    "Maybe the lists are only off by a small amount! To find out, pair up the numbers and measure how far apart they are. Pair up the smallest number in the left list with the smallest number in the right list, then the second-smallest left number with the second-smallest right number, and so on.\n",
    "\n",
    "Within each pair, figure out how far apart the two numbers are; you'll need to add up all of those distances. For example, if you pair up a 3 from the left list with a 7 from the right list, the distance apart is 4; if you pair up a 9 with a 3, the distance apart is 6.\n",
    "\n",
    "In the example list above, the pairs and distances would be as follows:\n",
    "\n",
    "The smallest number in the left list is 1, and the smallest number in the right list is 3. The distance between them is 2.\n",
    "The second-smallest number in the left list is 2, and the second-smallest number in the right list is another 3. The distance between them is 1.\n",
    "The third-smallest number in both lists is 3, so the distance between them is 0.\n",
    "The next numbers to pair up are 3 and 4, a distance of 1.\n",
    "The fifth-smallest numbers in each list are 3 and 5, a distance of 2.\n",
    "Finally, the largest number in the left list is 4, while the largest number in the right list is 9; these are a distance 5 apart.\n",
    "To find the total distance between the left list and the right list, add up the distances between all of the pairs you found. In the example above, this is 2 + 1 + 0 + 1 + 2 + 5, a total distance of 11!\n",
    "\n",
    "Your actual left and right lists contain many location IDs. What is the total distance between your lists?"
   ]
  },
  {
   "cell_type": "code",
   "execution_count": 26,
   "id": "42f169da",
   "metadata": {},
   "outputs": [
    {
     "data": {
      "text/plain": [
       "2756096"
      ]
     },
     "execution_count": 26,
     "metadata": {},
     "output_type": "execute_result"
    }
   ],
   "source": [
    "import csv\n",
    "\n",
    "# Read the file line by line\n",
    "with open('input_day_1.txt', 'r') as file:\n",
    "    lines = file.readlines()\n",
    "\n",
    "left_list = []\n",
    "right_list = []\n",
    "for line in lines:\n",
    "    parts = line.strip().split()\n",
    "    if len(parts) == 2: \n",
    "        left_list.append(int(parts[0])) \n",
    "        right_list.append(int(parts[1]))  \n",
    "\n",
    "\"\"\"        \n",
    "print(\"Left List:\", left_list, \"\\t\")\n",
    "print(\"-------------------------------------------\")\n",
    "print(\"Right List:\", right_list)\n",
    "\"\"\"\n",
    "sorted_left = sorted(left_list)\n",
    "sorted_right = sorted(right_list)\n",
    "\n",
    "def total_distance(left_list, right_list):\n",
    "    if not left_list or not right_list :\n",
    "        return 0\n",
    "    \n",
    "    return abs(left_list[0] - right_list[0]) + total_distance(left_list[1:], right_list[1:])\n",
    "\n",
    "total_distance(sorted_left, sorted_right)"
   ]
  },
  {
   "cell_type": "markdown",
   "id": "859b7dc4",
   "metadata": {},
   "source": [
    "--- Part Two ---\n",
    "Your analysis only confirmed what everyone feared: the two lists of location IDs are indeed very different.\n",
    "\n",
    "Or are they?\n",
    "\n",
    "The Historians can't agree on which group made the mistakes or how to read most of the Chief's handwriting, but in the commotion you notice an interesting detail: a lot of location IDs appear in both lists! Maybe the other numbers aren't location IDs at all but rather misinterpreted handwriting.\n",
    "\n",
    "This time, you'll need to figure out exactly how often each number from the left list appears in the right list. Calculate a total similarity score by adding up each number in the left list after multiplying it by the number of times that number appears in the right list.\n",
    "\n",
    "Here are the same example lists again:\n",
    "\n",
    "3   4\n",
    "4   3\n",
    "2   5\n",
    "1   3\n",
    "3   9\n",
    "3   3\n",
    "For these example lists, here is the process of finding the similarity score:\n",
    "\n",
    "The first number in the left list is 3. It appears in the right list three times, so the similarity score increases by 3 * 3 = 9.\n",
    "The second number in the left list is 4. It appears in the right list once, so the similarity score increases by 4 * 1 = 4.\n",
    "The third number in the left list is 2. It does not appear in the right list, so the similarity score does not increase (2 * 0 = 0).\n",
    "The fourth number, 1, also does not appear in the right list.\n",
    "The fifth number, 3, appears in the right list three times; the similarity score increases by 9.\n",
    "The last number, 3, appears in the right list three times; the similarity score again increases by 9.\n",
    "So, for these example lists, the similarity score at the end of this process is 31 (9 + 4 + 0 + 0 + 9 + 9).\n",
    "\n",
    "Once again consider your left and right lists. What is their similarity score?"
   ]
  },
  {
   "cell_type": "code",
   "execution_count": 2,
   "id": "a366660e",
   "metadata": {},
   "outputs": [
    {
     "data": {
      "text/plain": [
       "23117829"
      ]
     },
     "execution_count": 2,
     "metadata": {},
     "output_type": "execute_result"
    }
   ],
   "source": [
    "import csv\n",
    "\n",
    "# Read the file line by line\n",
    "with open('input/input_day_1.txt', 'r') as file:\n",
    "    lines = file.readlines()\n",
    "\n",
    "left_list = []\n",
    "right_list = []\n",
    "for line in lines:\n",
    "    parts = line.strip().split()\n",
    "    if len(parts) == 2: \n",
    "        left_list.append(int(parts[0])) \n",
    "        right_list.append(int(parts[1]))  \n",
    "\n",
    "\n",
    "def similarity(left_list, right_list):\n",
    "    occurrence_dict = {}\n",
    "    def occurrence(searched_list, item):\n",
    "        if item not in occurrence_dict:\n",
    "            occurrence_dict[item] = searched_list.count(item)  \n",
    "\n",
    "        return occurrence_dict[item] * item\n",
    "\n",
    "    \n",
    "    if not left_list or not right_list :\n",
    "        return 0\n",
    "    \n",
    "    return similarity(left_list[1:], right_list) + occurrence(right_list, left_list[0])\n",
    "\n",
    "similarity(left_list, right_list)"
   ]
  },
  {
   "cell_type": "markdown",
   "id": "426fd949",
   "metadata": {},
   "source": [
    "### Day 2"
   ]
  },
  {
   "cell_type": "markdown",
   "id": "b7c4c952",
   "metadata": {},
   "source": [
    "The unusual data (your puzzle input) consists of many reports, one report per line. Each report is a list of numbers called levels that are separated by spaces. For example:\n",
    "\n",
    "7 6 4 2 1\n",
    "1 2 7 8 9\n",
    "9 7 6 2 1\n",
    "1 3 2 4 5\n",
    "8 6 4 4 1\n",
    "1 3 6 7 9\n",
    "This example data contains six reports each containing five levels.\n",
    "\n",
    "The engineers are trying to figure out which reports are safe. The Red-Nosed reactor safety systems can only tolerate levels that are either gradually increasing or gradually decreasing. So, a report only counts as safe if both of the following are true:\n",
    "\n",
    "The levels are either all increasing or all decreasing.\n",
    "Any two adjacent levels differ by at least one and at most three.\n",
    "In the example above, the reports can be found safe or unsafe by checking those rules:\n",
    "\n",
    "7 6 4 2 1: Safe because the levels are all decreasing by 1 or 2.\n",
    "1 2 7 8 9: Unsafe because 2 7 is an increase of 5.\n",
    "9 7 6 2 1: Unsafe because 6 2 is a decrease of 4.\n",
    "1 3 2 4 5: Unsafe because 1 3 is increasing but 3 2 is decreasing.\n",
    "8 6 4 4 1: Unsafe because 4 4 is neither an increase or a decrease.\n",
    "1 3 6 7 9: Safe because the levels are all increasing by 1, 2, or 3.\n",
    "So, in this example, 2 reports are safe.\n",
    "\n",
    "Analyze the unusual data from the engineers. How many reports are safe?"
   ]
  },
  {
   "cell_type": "code",
   "execution_count": 3,
   "id": "12824138",
   "metadata": {},
   "outputs": [
    {
     "ename": "FileNotFoundError",
     "evalue": "[Errno 2] No such file or directory: 'input_day_2.txt'",
     "output_type": "error",
     "traceback": [
      "\u001b[1;31m---------------------------------------------------------------------------\u001b[0m",
      "\u001b[1;31mFileNotFoundError\u001b[0m                         Traceback (most recent call last)",
      "Cell \u001b[1;32mIn[3], line 4\u001b[0m\n\u001b[0;32m      2\u001b[0m data \u001b[38;5;241m=\u001b[39m []\n\u001b[0;32m      3\u001b[0m \u001b[38;5;66;03m# Read the file and split lines into numbers\u001b[39;00m\n\u001b[1;32m----> 4\u001b[0m \u001b[38;5;28;01mwith\u001b[39;00m \u001b[38;5;28;43mopen\u001b[39;49m\u001b[43m(\u001b[49m\u001b[38;5;124;43m'\u001b[39;49m\u001b[38;5;124;43minput_day_2.txt\u001b[39;49m\u001b[38;5;124;43m'\u001b[39;49m\u001b[43m,\u001b[49m\u001b[43m \u001b[49m\u001b[38;5;124;43m'\u001b[39;49m\u001b[38;5;124;43mr\u001b[39;49m\u001b[38;5;124;43m'\u001b[39;49m\u001b[43m)\u001b[49m \u001b[38;5;28;01mas\u001b[39;00m file:\n\u001b[0;32m      5\u001b[0m     \u001b[38;5;28;01mfor\u001b[39;00m line \u001b[38;5;129;01min\u001b[39;00m file:\n\u001b[0;32m      6\u001b[0m         \u001b[38;5;66;03m# Split the line by whitespace (tabs or spaces) and convert to integers\u001b[39;00m\n\u001b[0;32m      7\u001b[0m         numbers \u001b[38;5;241m=\u001b[39m [\u001b[38;5;28mint\u001b[39m(item) \u001b[38;5;28;01mfor\u001b[39;00m item \u001b[38;5;129;01min\u001b[39;00m line\u001b[38;5;241m.\u001b[39msplit() \u001b[38;5;28;01mif\u001b[39;00m item\u001b[38;5;241m.\u001b[39misdigit()]\n",
      "File \u001b[1;32m~\\AppData\\Roaming\\Python\\Python39\\site-packages\\IPython\\core\\interactiveshell.py:310\u001b[0m, in \u001b[0;36m_modified_open\u001b[1;34m(file, *args, **kwargs)\u001b[0m\n\u001b[0;32m    303\u001b[0m \u001b[38;5;28;01mif\u001b[39;00m file \u001b[38;5;129;01min\u001b[39;00m {\u001b[38;5;241m0\u001b[39m, \u001b[38;5;241m1\u001b[39m, \u001b[38;5;241m2\u001b[39m}:\n\u001b[0;32m    304\u001b[0m     \u001b[38;5;28;01mraise\u001b[39;00m \u001b[38;5;167;01mValueError\u001b[39;00m(\n\u001b[0;32m    305\u001b[0m         \u001b[38;5;124mf\u001b[39m\u001b[38;5;124m\"\u001b[39m\u001b[38;5;124mIPython won\u001b[39m\u001b[38;5;124m'\u001b[39m\u001b[38;5;124mt let you open fd=\u001b[39m\u001b[38;5;132;01m{\u001b[39;00mfile\u001b[38;5;132;01m}\u001b[39;00m\u001b[38;5;124m by default \u001b[39m\u001b[38;5;124m\"\u001b[39m\n\u001b[0;32m    306\u001b[0m         \u001b[38;5;124m\"\u001b[39m\u001b[38;5;124mas it is likely to crash IPython. If you know what you are doing, \u001b[39m\u001b[38;5;124m\"\u001b[39m\n\u001b[0;32m    307\u001b[0m         \u001b[38;5;124m\"\u001b[39m\u001b[38;5;124myou can use builtins\u001b[39m\u001b[38;5;124m'\u001b[39m\u001b[38;5;124m open.\u001b[39m\u001b[38;5;124m\"\u001b[39m\n\u001b[0;32m    308\u001b[0m     )\n\u001b[1;32m--> 310\u001b[0m \u001b[38;5;28;01mreturn\u001b[39;00m io_open(file, \u001b[38;5;241m*\u001b[39margs, \u001b[38;5;241m*\u001b[39m\u001b[38;5;241m*\u001b[39mkwargs)\n",
      "\u001b[1;31mFileNotFoundError\u001b[0m: [Errno 2] No such file or directory: 'input_day_2.txt'"
     ]
    }
   ],
   "source": [
    "import csv\n",
    "data = []\n",
    "# Read the file and split lines into numbers\n",
    "with open('input_day_2.txt', 'r') as file:\n",
    "    for line in file:\n",
    "        # Split the line by whitespace (tabs or spaces) and convert to integers\n",
    "        numbers = [int(item) for item in line.split() if item.isdigit()]\n",
    "        data.append(numbers)\n",
    "\n",
    "def safety_check(report):\n",
    "    if not report:\n",
    "        return 0\n",
    "    \n",
    "    inc = None\n",
    "    \n",
    "    for i in range(1,len(report)):\n",
    "        if abs(report[i - 1] - report[i]) > 3:\n",
    "            return 0\n",
    "        \n",
    "        if report[i - 1] > report[i]:\n",
    "            if inc is None:\n",
    "                inc = False\n",
    "            elif inc is True:\n",
    "                return 0\n",
    "        \n",
    "        elif report[i - 1] < report[i]:\n",
    "            if inc is None:\n",
    "                inc = True\n",
    "            elif inc is False:\n",
    "                return 0\n",
    "        else:\n",
    "            return 0\n",
    "\n",
    "    return 1\n",
    "\n",
    "ret = 0\n",
    "print(len(data))\n",
    "\n",
    "for lists in data:\n",
    "    ret += safety_check(lists)\n",
    "    \n",
    "print(ret)"
   ]
  },
  {
   "cell_type": "markdown",
   "id": "72182787",
   "metadata": {},
   "source": [
    "--- Part Two ---\n",
    "The engineers are surprised by the low number of safe reports until they realize they forgot to tell you about the Problem Dampener.\n",
    "\n",
    "The Problem Dampener is a reactor-mounted module that lets the reactor safety systems tolerate a single bad level in what would otherwise be a safe report. It's like the bad level never happened!\n",
    "\n",
    "Now, the same rules apply as before, except if removing a single level from an unsafe report would make it safe, the report instead counts as safe.\n",
    "\n",
    "More of the above example's reports are now safe:\n",
    "\n",
    "7 6 4 2 1: Safe without removing any level.\n",
    "1 2 7 8 9: Unsafe regardless of which level is removed.\n",
    "9 7 6 2 1: Unsafe regardless of which level is removed.\n",
    "1 3 2 4 5: Safe by removing the second level, 3.\n",
    "8 6 4 4 1: Safe by removing the third level, 4.\n",
    "1 3 6 7 9: Safe without removing any level.\n",
    "Thanks to the Problem Dampener, 4 reports are actually safe!\n",
    "\n",
    "Update your analysis by handling situations where the Problem Dampener can remove a single level from unsafe reports. How many reports are now safe?"
   ]
  },
  {
   "cell_type": "code",
   "execution_count": 86,
   "id": "42fdcceb",
   "metadata": {},
   "outputs": [
    {
     "name": "stdout",
     "output_type": "stream",
     "text": [
      "436\n"
     ]
    }
   ],
   "source": [
    "#this function test every possibility of deletion in the report (max 1 deletion)\n",
    "\n",
    "def safety_check_2(lines: list[list[int]]) -> int:\n",
    "    count = 0\n",
    "\n",
    "\n",
    "    for line in lines:\n",
    "\n",
    "        for i in range(len(line)):\n",
    "\n",
    "            temp_line = line[:i] + line[i+1:]\n",
    "\n",
    "            increasing = all((temp_line[i] - temp_line[i - 1]) in {1, 2, 3} for i in range(1, len(temp_line)))\n",
    "            decreasing = all((temp_line[i - 1] - temp_line[i]) in {1, 2, 3} for i in range(1, len(temp_line)))\n",
    "\n",
    "            if increasing or decreasing:\n",
    "                count += 1\n",
    "                break  # don't check any further for this line\n",
    "\n",
    "    return count\n",
    "\n",
    "\n",
    "with open('input_day_2.txt', 'r') as file:\n",
    "    rawlines = file.readlines()\n",
    "\n",
    "lines = [[int(num) for num in line.strip().split()] for line in rawlines]\n",
    "\n",
    "# Call the function and print the result\n",
    "print(safety_check_2(lines))"
   ]
  },
  {
   "cell_type": "markdown",
   "id": "f3ff9ed5",
   "metadata": {},
   "source": [
    "### Day 3"
   ]
  },
  {
   "cell_type": "code",
   "execution_count": 6,
   "id": "97fef5f5",
   "metadata": {
    "editable": true,
    "slideshow": {
     "slide_type": ""
    },
    "tags": []
   },
   "outputs": [
    {
     "name": "stdout",
     "output_type": "stream",
     "text": [
      "175700056\n"
     ]
    }
   ],
   "source": [
    "import re\n",
    "\n",
    "with open('input_day_3.txt', 'r') as file:\n",
    "    rawtxt = file.read()\n",
    "\n",
    "def uncorrupt(rawtxt):\n",
    "    pattern = r\"mul\\((\\d+),(\\d+)\\)\"\n",
    "    total_sum = 0\n",
    "\n",
    "    for match in re.finditer(pattern, rawtxt):\n",
    "        total_sum += int(match.group(1)) * int(match.group(2))\n",
    "    \n",
    "    return total_sum\n",
    "\n",
    "\n",
    "print(uncorrupt(rawtxt))"
   ]
  },
  {
   "cell_type": "markdown",
   "id": "b1d9d6d8",
   "metadata": {},
   "source": [
    "### Part 1 bis ---"
   ]
  },
  {
   "cell_type": "code",
   "execution_count": 17,
   "id": "69a9326b",
   "metadata": {},
   "outputs": [
    {
     "name": "stdout",
     "output_type": "stream",
     "text": [
      "175700056\n"
     ]
    }
   ],
   "source": [
    "import re\n",
    "\n",
    "with open('input_day_3.txt', 'r') as file:\n",
    "    rawtxt = file.read()\n",
    "\n",
    "def compute_mul(multxt):\n",
    "\n",
    "    if len(multxt.split(\",\")) == 2:\n",
    "        val1 = multxt.split(\",\")[0].strip(')')\n",
    "        val2 = multxt.split(\",\")[1].strip(')')\n",
    "\n",
    "        if val1.isnumeric() and val2.isnumeric():\n",
    "            return int(val1) * int(val2)\n",
    "\n",
    "    return 0\n",
    "        \n",
    "\n",
    "def uncorrupt(rawtxt):\n",
    "    total = 0\n",
    "\n",
    "    if not rawtxt:\n",
    "        return 0\n",
    "\n",
    "    for i in range(len(rawtxt)):\n",
    "        if (rawtxt[i:i + 4]== \"mul(\"):\n",
    "\n",
    "            for j in range(i + 5, i + 12):\n",
    "                if rawtxt[j] == \")\":\n",
    "                    total += compute_mul(rawtxt[i+4:j])\n",
    "                    \n",
    "                if not(rawtxt[j].isnumeric() or rawtxt[j] == \"(\" or rawtxt[j] == \",\"):\n",
    "                    break\n",
    "    return total\n",
    "\n",
    "print(uncorrupt(rawtxt))"
   ]
  },
  {
   "cell_type": "markdown",
   "id": "8f18a889-c10e-4d4e-bc45-c20f531129f1",
   "metadata": {},
   "source": [
    "### Part 2"
   ]
  },
  {
   "cell_type": "code",
   "execution_count": 23,
   "id": "d888829b-2802-4755-8324-76eec522ad21",
   "metadata": {},
   "outputs": [
    {
     "name": "stdout",
     "output_type": "stream",
     "text": [
      "71668682\n"
     ]
    }
   ],
   "source": [
    "import re\n",
    "\n",
    "with open('input_day_3.txt', 'r') as file:\n",
    "    rawtxt = file.read()\n",
    "\n",
    "def compute_mul(multxt):\n",
    "\n",
    "    if len(multxt.split(\",\")) == 2:\n",
    "        val1 = multxt.split(\",\")[0].strip(')')\n",
    "        val2 = multxt.split(\",\")[1].strip(')')\n",
    "\n",
    "        if val1.isnumeric() and val2.isnumeric():\n",
    "            return int(val1) * int(val2)\n",
    "\n",
    "    return 0\n",
    "        \n",
    "\n",
    "def uncorrupt(rawtxt):\n",
    "    total = 0\n",
    "    enable = True\n",
    "\n",
    "    if not rawtxt:\n",
    "        return 0\n",
    "\n",
    "    for i in range(len(rawtxt)):\n",
    "        if rawtxt[i:i + 4]== \"do()\":\n",
    "            enable = True\n",
    "        elif rawtxt[i:i + 7]== \"don't()\":\n",
    "            enable = False\n",
    "        \n",
    "        if (rawtxt[i:i + 4]== \"mul(\") and enable:\n",
    "\n",
    "            for j in range(i + 5, i + 12):\n",
    "                if rawtxt[j] == \")\":\n",
    "                    total += compute_mul(rawtxt[i+4:j])\n",
    "                    \n",
    "                if not(rawtxt[j].isnumeric() or rawtxt[j] == \"(\" or rawtxt[j] == \",\"):\n",
    "                    break\n",
    "    return total\n",
    "\n",
    "print(uncorrupt(rawtxt))"
   ]
  },
  {
   "cell_type": "markdown",
   "id": "5af5015a-612e-44bd-a1ba-5b44497a8538",
   "metadata": {},
   "source": [
    "## Day 4"
   ]
  },
  {
   "cell_type": "code",
   "execution_count": 28,
   "id": "05e1d688-35a9-48d7-9fa4-59a251442b9a",
   "metadata": {},
   "outputs": [
    {
     "name": "stdout",
     "output_type": "stream",
     "text": [
      "6276\n",
      "m: 141\n",
      "n: 140\n",
      "581\n"
     ]
    }
   ],
   "source": [
    "import numpy as np\n",
    "\n",
    "\n",
    "def part1(puzzle_input):\n",
    "    rows = puzzle_input.split('\\n')\n",
    "    m = len(rows)\n",
    "    print(\"m:\",m)\n",
    "    n = len(rows[0])\n",
    "    print(\"n:\",n)\n",
    "\n",
    "    def count(r, c):\n",
    "        #print(\"r:\",r)\n",
    "        #print(\"c:\",c)\n",
    "        #print(\"rows[r][c]:\",rows[r][c])\n",
    "        if rows[r][c] != 'X':\n",
    "            return 0\n",
    "        return sum([\n",
    "             c > 2 and rows[r][c-3:c+1] == 'SAMX',                                               # left\n",
    "             c < n - 3 and rows[r][c:c+4] == 'XMAS',                                             # right\n",
    "             r > 2 and ''.join(rows[r-i][c] for i in range(4)) == 'XMAS',                        # up\n",
    "            # r < m - 3 and ''.join(rows[r+i][c] for i in range(4)) == 'XMAS',                    # down\n",
    "            # r > 2 and c > 2 and ''.join(rows[r-i][c-i] for i in range(4)) == 'XMAS',            # left-up\n",
    "            # r > 2 and c < n - 3 and ''.join(rows[r-i][c+i] for i in range(4)) == 'XMAS',        # right-up\n",
    "            # r < m - 3 and c > 2 and ''.join(rows[r+i][c-i] for i in range(4)) == 'XMAS',        # left-down\n",
    "            # r < m - 3 and c < n - 3 and ''.join(rows[r+i][c+i] for i in range(4)) == 'XMAS',    # right-down\n",
    "        ])\n",
    "        \n",
    "    return sum(count(r, c) for r in range(m-1) for c in range(n-1))\n",
    "\n",
    "def get_XMAS(inputTxt):\n",
    "    if not inputTxt:\n",
    "        return 0\n",
    "\n",
    "    def occurence(txt):\n",
    "        counter = 0\n",
    "        wordIn = \"\"\n",
    "        wordOut = \"\"\n",
    "        xmas = \"XMAS\"\n",
    "        samx = \"SAMX\"\n",
    "\n",
    "        for i in range(len(txt)):\n",
    "            if str(txt[i]) == xmas[len(wordIn)]:\n",
    "                wordIn += txt[i]\n",
    "\n",
    "            if txt[i] == samx[len(wordOut)]:\n",
    "                wordOut += txt[i]\n",
    "\n",
    "            if wordIn == xmas:\n",
    "                wordIn = \"\"\n",
    "                counter += 1\n",
    "                \n",
    "            if wordOut == samx:\n",
    "                wordOut = \"\"\n",
    "                counter += 1\n",
    "\n",
    "        return counter\n",
    "\n",
    "    def composeTxt(matrix):\n",
    "        composeCounter = 0\n",
    "\n",
    "        # Rows\n",
    "        for row in matrix:\n",
    "            composeCounter += occurence(row[0])\n",
    "\n",
    "        # Columns (transposed rows)\n",
    "        for column in matrix.T:\n",
    "            composeCounter += occurence(column[0])\n",
    "\n",
    "        # Diagonals (↘)\n",
    "        for diag in [matrix.diagonal(offset) for offset in range(-matrix.shape[0] + 1, matrix.shape[1])]:\n",
    "            composeCounter += occurence(diag[0])\n",
    "\n",
    "        # Anti-diagonals (↙)\n",
    "        flipped_matrix = np.fliplr(matrix)  # Flip the matrix horizontally\n",
    "        for diag in [flipped_matrix.diagonal(offset) for offset in range(-flipped_matrix.shape[0] + 1, flipped_matrix.shape[1])]:\n",
    "            composeCounter += occurence(diag[0])\n",
    "\n",
    "        return composeCounter\n",
    "\n",
    "    # Convert inputTxt to a NumPy array\n",
    "    matrix = np.array(inputTxt)\n",
    "\n",
    "    return composeTxt(matrix)\n",
    "\n",
    "\n",
    "# Example usage\n",
    "with open('input/input_day_4.txt', 'r') as file:rawlines = file.readlines()\n",
    "with open('input/input_day_4.txt', 'r') as file:rawlines_1 = file.read()\n",
    "lines = [line.strip().split() for line in rawlines]\n",
    "\n",
    "newLines = [[\"MMMSXXMASM\"],\n",
    "            [\"MSAMXMSMSA\"],\n",
    "            [\"AMXSXMAAMM\"],\n",
    "            [\"MSAMASMSMX\"],\n",
    "            [\"XMASAMXAMM\"],\n",
    "            [\"XXAMMXXAMA\"],\n",
    "            [\"SMSMSASXSS\"],\n",
    "            [\"SAXAMASAAA\"],\n",
    "            [\"MAMMMXMMMM\"],\n",
    "            [\"MXMXAXMASX\"]]\n",
    "\n",
    "print(get_XMAS(lines))\n",
    "print(part1(rawlines_1 ))\n"
   ]
  }
 ],
 "metadata": {
  "kernelspec": {
   "display_name": "Python 3",
   "language": "python",
   "name": "python3"
  },
  "language_info": {
   "codemirror_mode": {
    "name": "ipython",
    "version": 3
   },
   "file_extension": ".py",
   "mimetype": "text/x-python",
   "name": "python",
   "nbconvert_exporter": "python",
   "pygments_lexer": "ipython3",
   "version": "3.9.0"
  }
 },
 "nbformat": 4,
 "nbformat_minor": 5
}
